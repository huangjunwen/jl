{
  "metadata": {
    "kernelspec": {
      "name": "python",
      "display_name": "Python (Pyodide)",
      "language": "python"
    },
    "language_info": {
      "codemirror_mode": {
        "name": "python",
        "version": 3
      },
      "file_extension": ".py",
      "mimetype": "text/x-python",
      "name": "python",
      "nbconvert_exporter": "python",
      "pygments_lexer": "ipython3",
      "version": "3.8"
    }
  },
  "nbformat_minor": 5,
  "nbformat": 4,
  "cells": [
    {
      "id": "f50be0b0-f0fd-47c6-a625-944600cbe78d",
      "cell_type": "markdown",
      "source": "## 使用 [JSXGraph](https://jsxgraph.org/wp/docs/index.html) 的例子",
      "metadata": {}
    },
    {
      "id": "46d01a15-eb43-4e0f-b922-19cbc03d308d",
      "cell_type": "markdown",
      "source": "### 载入 JSXGraph",
      "metadata": {}
    },
    {
      "id": "82e3f175-d192-4434-a07c-1988887a10c1",
      "cell_type": "code",
      "source": "%%html\n<link href=\"https://cdn.jsdelivr.net/npm/jsxgraph/distrib/jsxgraph.css\" rel=\"stylesheet\" type=\"text/css\" />\n<script src=\"https://cdn.jsdelivr.net/npm/jsxgraph/distrib/jsxgraphcore.js\" type=\"text/javascript\" charset=\"UTF-8\"></script>",
      "metadata": {
        "trusted": true
      },
      "outputs": [
        {
          "output_type": "display_data",
          "data": {
            "text/plain": "<IPython.core.display.HTML object>",
            "text/html": "<link href=\"https://cdn.jsdelivr.net/npm/jsxgraph/distrib/jsxgraph.css\" rel=\"stylesheet\" type=\"text/css\" />\n<script src=\"https://cdn.jsdelivr.net/npm/jsxgraph/distrib/jsxgraphcore.js\" type=\"text/javascript\" charset=\"UTF-8\"></script>\n"
          },
          "metadata": {}
        }
      ],
      "execution_count": 4
    },
    {
      "id": "298e60b8-24e0-416d-88aa-bbe3adfd7f08",
      "cell_type": "markdown",
      "source": "### 定义公共函数用于创建画板以及调用实际 draw 函数",
      "metadata": {}
    },
    {
      "id": "253af755-be52-4653-93fd-42f3878c3d52",
      "cell_type": "code",
      "source": "import uuid\nfrom IPython.display import HTML\n\ndef draw_jsx(draw_func, aspect_ratio=\"1/1\", width=\"100%\"):\n    board_id = \"jsx_box_\" + uuid.uuid4().hex\n    html = f\"\"\"\n    <div id=\"{board_id}\" style=\"width:{width}; aspect-ratio:{aspect_ratio};\"></div>\n    <script>\n    (async () => {{\n        ({draw_func})(\"{board_id}\");\n    }})();\n    </script>\n    \"\"\"\n    return HTML(html)",
      "metadata": {
        "trusted": true
      },
      "outputs": [],
      "execution_count": 8
    },
    {
      "id": "0524404d-3787-471a-aa45-426f46be1591",
      "cell_type": "markdown",
      "source": "### 最简单例子",
      "metadata": {}
    },
    {
      "id": "df389f8d-4d62-4ab4-9225-d9bfd007e10e",
      "cell_type": "code",
      "source": "draw_jsx(\"\"\"(boardId) => {\n    const board = JXG.JSXGraph.initBoard(boardId, {\n            boundingbox: [-5, 2, 5, -2],\n            axis:true\n    });\n    board.create('functiongraph', ['sin(x)']);\n}\"\"\", \"2/1\")",
      "metadata": {
        "trusted": true
      },
      "outputs": [
        {
          "execution_count": 6,
          "output_type": "execute_result",
          "data": {
            "text/plain": "<IPython.core.display.HTML object>",
            "text/html": "\n    <div id=\"jsx_box_1075ee1cada341fa8b03826d275031e5\" style=\"width:100%; aspect-ratio:2/1;\"></div>\n    <script>\n    (async () => {\n        ((boardId) => {\n    const board = JXG.JSXGraph.initBoard(boardId, {\n            boundingbox: [-5, 2, 5, -2],\n            axis:true\n    });\n    board.create('functiongraph', ['sin(x)']);\n})(\"jsx_box_1075ee1cada341fa8b03826d275031e5\");\n    })();\n    </script>\n    "
          },
          "metadata": {}
        }
      ],
      "execution_count": 6
    },
    {
      "id": "bf86d069-7d45-48fb-847b-354cbd8aaf10",
      "cell_type": "markdown",
      "source": "### 例子：[two squares](https://jsxgraph.org/wiki/index.php?title=Two_squares)",
      "metadata": {}
    },
    {
      "id": "77648ecc-40f2-43d2-8197-776cc0181035",
      "cell_type": "code",
      "source": "draw_jsx(\"\"\"(boardId) => {\n    const board = JXG.JSXGraph.initBoard(boardId, {\n        boundingbox: [-4, 3, 4, -3],\n    });\n    var A = board.create('point', [-3, -1], {color: 'blue'}),\n        B = board.create('point', [0, -1], {color: 'blue'}),\n        E = board.create('point', [1, -2], {name: 'E', color: 'blue'}),\n\n        square1 = board.create('regularpolygon', [A, B, 4], {name: 'Square 1'}),\n        square2 = board.create('regularpolygon', [B, E, 4], {name: 'Square 2'}),\n\n        C = square1.vertices[2],\n        H = square2.vertices[3],\n\n        p = board.create('line', [A, H]),\n    \tq = board.create('line', [E, C]);\n}\"\"\", \"4/3\", \"80%\")",
      "metadata": {
        "trusted": true
      },
      "outputs": [
        {
          "execution_count": 9,
          "output_type": "execute_result",
          "data": {
            "text/plain": "<IPython.core.display.HTML object>",
            "text/html": "\n    <div id=\"jsx_box_21f778bcb55f45e7b1039791bb5a883a\" style=\"width:80%; aspect-ratio:4/3;\"></div>\n    <script>\n    (async () => {\n        ((boardId) => {\n    const board = JXG.JSXGraph.initBoard(boardId, {\n        boundingbox: [-4, 3, 4, -3],\n    });\n    var A = board.create('point', [-3, -1], {color: 'blue'}),\n        B = board.create('point', [0, -1], {color: 'blue'}),\n        E = board.create('point', [1, -2], {name: 'E', color: 'blue'}),\n\n        square1 = board.create('regularpolygon', [A, B, 4], {name: 'Square 1'}),\n        square2 = board.create('regularpolygon', [B, E, 4], {name: 'Square 2'}),\n\n        C = square1.vertices[2],\n        H = square2.vertices[3],\n\n        p = board.create('line', [A, H]),\n    \tq = board.create('line', [E, C]);\n})(\"jsx_box_21f778bcb55f45e7b1039791bb5a883a\");\n    })();\n    </script>\n    "
          },
          "metadata": {}
        }
      ],
      "execution_count": 9
    }
  ]
}