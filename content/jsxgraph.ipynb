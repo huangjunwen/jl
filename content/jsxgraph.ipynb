{
  "metadata": {
    "kernelspec": {
      "name": "python",
      "display_name": "Python (Pyodide)",
      "language": "python"
    },
    "language_info": {
      "codemirror_mode": {
        "name": "python",
        "version": 3
      },
      "file_extension": ".py",
      "mimetype": "text/x-python",
      "name": "python",
      "nbconvert_exporter": "python",
      "pygments_lexer": "ipython3",
      "version": "3.8"
    }
  },
  "nbformat_minor": 5,
  "nbformat": 4,
  "cells": [
    {
      "id": "f50be0b0-f0fd-47c6-a625-944600cbe78d",
      "cell_type": "markdown",
      "source": "## 使用 [JSXGraph](https://jsxgraph.org/wp/docs/index.html) 的例子",
      "metadata": {}
    },
    {
      "id": "298e60b8-24e0-416d-88aa-bbe3adfd7f08",
      "cell_type": "markdown",
      "source": "### 定义公共函数用于载入 JSXGraph 以及创建画板",
      "metadata": {
        "jp-MarkdownHeadingCollapsed": true
      }
    },
    {
      "id": "253af755-be52-4653-93fd-42f3878c3d52",
      "cell_type": "code",
      "source": "import uuid\nfrom IPython.display import HTML\n\ndef draw_jsx(draw_func, aspect_ratio=\"1/1\"):\n    board_id = \"jsx_box_\" + uuid.uuid4().hex\n    funcs = \"\"\"\n    const loadScript = (url) => {\n        return new Promise((resolve) => {\n            const script = document.createElement('script');\n            script.url = url;\n            script.onload = resolve;\n            document.head.appendChild(script);\n        });\n    };\n    const loadCSS = (url) => {\n        const link = document.createElement('link');\n        link.rel = 'stylesheet';\n        link.href = url;\n        document.head.appendChild(link);\n    };\n    const loadJSXGraph = async () => {\n        if (typeof JXG == 'undefined') {\n            await loadScript('https://cdn.jsdelivr.net/npm/jsxgraph/distrib/jsxgraphcore.js');\n            loadCSS('https://cdn.jsdelivr.net/npm/jsxgraph/distrib/jsxgraph.css');\n        }\n    };\n    const drawJSXGraph = async (drawFunc, boardId) => {\n        await loadJSXGraph();\n        drawFunc(boardId);\n    };\n    \"\"\"\n    \n    html = f\"\"\"\n    <div id=\"{board_id}\" style=\"width:100%; aspect-ratio:{aspect_ratio};\"></div>\n    <script>\n    (async () => {{\n        {funcs}\n        const drawFunc = {draw_func};\n        await drawJSXGraph(drawFunc, \"{board_id}\");\n    }})();\n    </script>\n    \"\"\"\n    return HTML(html)",
      "metadata": {
        "trusted": true
      },
      "outputs": [],
      "execution_count": 1
    },
    {
      "id": "0524404d-3787-471a-aa45-426f46be1591",
      "cell_type": "markdown",
      "source": "### 最简单例子",
      "metadata": {
        "jp-MarkdownHeadingCollapsed": true
      }
    },
    {
      "id": "df389f8d-4d62-4ab4-9225-d9bfd007e10e",
      "cell_type": "code",
      "source": "draw_jsx(\"\"\"(boardId) => {\n    const board = JXG.JSXGraph.initBoard(boardId, {\n            boundingbox: [-5, 2, 5, -2],\n            axis:true\n    });\n    board.create('functiongraph', ['sin(x)']);\n}\"\"\", \"2/1\")",
      "metadata": {
        "trusted": true
      },
      "outputs": [
        {
          "execution_count": 2,
          "output_type": "execute_result",
          "data": {
            "text/plain": "<IPython.core.display.HTML object>",
            "text/html": "\n    <div id=\"jsx_box_94108211e3c0410a9a510897e42eed80\" style=\"width:100%; aspect-ratio:2/1;\"></div>\n    <script>\n    (async () => {\n        \n    const loadScript = (url) => {\n        return new Promise((resolve) => {\n            const script = document.createElement('script');\n            script.url = url;\n            script.onload = resolve;\n            document.head.appendChild(script);\n        });\n    };\n    const loadCSS = (url) => {\n        const link = document.createElement('link');\n        link.rel = 'stylesheet';\n        link.href = url;\n        document.head.appendChild(link);\n    };\n    const loadJSXGraph = async () => {\n        if (typeof JXG == 'undefined') {\n            await loadScript('https://cdn.jsdelivr.net/npm/jsxgraph/distrib/jsxgraphcore.js');\n            loadCSS('https://cdn.jsdelivr.net/npm/jsxgraph/distrib/jsxgraph.css');\n        }\n    };\n    const drawJSXGraph = async (drawFunc, boardId) => {\n        await loadJSXGraph();\n        drawFunc(boardId);\n    };\n    \n        const drawFunc = (boardId) => {\n    const board = JXG.JSXGraph.initBoard(boardId, {\n            boundingbox: [-5, 2, 5, -2],\n            axis:true\n    });\n    board.create('functiongraph', ['sin(x)']);\n};\n        await drawJSXGraph(drawFunc, \"jsx_box_94108211e3c0410a9a510897e42eed80\");\n    })();\n    </script>\n    "
          },
          "metadata": {}
        }
      ],
      "execution_count": 2
    },
    {
      "id": "bf86d069-7d45-48fb-847b-354cbd8aaf10",
      "cell_type": "markdown",
      "source": "### 例子：[two squares](https://jsxgraph.org/wiki/index.php?title=Two_squares)",
      "metadata": {
        "jp-MarkdownHeadingCollapsed": true
      }
    },
    {
      "id": "77648ecc-40f2-43d2-8197-776cc0181035",
      "cell_type": "code",
      "source": "draw_jsx(\"\"\"(boardId) => {\n    const board = JXG.JSXGraph.initBoard(boardId, {\n        boundingbox: [-4, 3, 4, -3],\n    });\n    var A = board.create('point', [-3, -1], {color: 'blue'}),\n        B = board.create('point', [0, -1], {color: 'blue'}),\n        E = board.create('point', [1, -2], {name: 'E', color: 'blue'}),\n\n        square1 = board.create('regularpolygon', [A, B, 4], {name: 'Square 1'}),\n        square2 = board.create('regularpolygon', [B, E, 4], {name: 'Square 2'}),\n\n        C = square1.vertices[2],\n        H = square2.vertices[3],\n\n        p = board.create('line', [A, H]),\n    \tq = board.create('line', [E, C]);\n}\"\"\", \"4/3\")",
      "metadata": {
        "trusted": true
      },
      "outputs": [
        {
          "execution_count": 3,
          "output_type": "execute_result",
          "data": {
            "text/plain": "<IPython.core.display.HTML object>",
            "text/html": "\n    <div id=\"jsx_box_abcc35f11ff04992994beff64658afb0\" style=\"width:100%; aspect-ratio:4/3;\"></div>\n    <script>\n    (async () => {\n        \n    const loadScript = (url) => {\n        return new Promise((resolve) => {\n            const script = document.createElement('script');\n            script.url = url;\n            script.onload = resolve;\n            document.head.appendChild(script);\n        });\n    };\n    const loadCSS = (url) => {\n        const link = document.createElement('link');\n        link.rel = 'stylesheet';\n        link.href = url;\n        document.head.appendChild(link);\n    };\n    const loadJSXGraph = async () => {\n        if (typeof JXG == 'undefined') {\n            await loadScript('https://cdn.jsdelivr.net/npm/jsxgraph/distrib/jsxgraphcore.js');\n            loadCSS('https://cdn.jsdelivr.net/npm/jsxgraph/distrib/jsxgraph.css');\n        }\n    };\n    const drawJSXGraph = async (drawFunc, boardId) => {\n        await loadJSXGraph();\n        drawFunc(boardId);\n    };\n    \n        const drawFunc = (boardId) => {\n    const board = JXG.JSXGraph.initBoard(boardId, {\n        boundingbox: [-4, 3, 4, -3],\n    });\n    var A = board.create('point', [-3, -1], {color: 'blue'}),\n        B = board.create('point', [0, -1], {color: 'blue'}),\n        E = board.create('point', [1, -2], {name: 'E', color: 'blue'}),\n\n        square1 = board.create('regularpolygon', [A, B, 4], {name: 'Square 1'}),\n        square2 = board.create('regularpolygon', [B, E, 4], {name: 'Square 2'}),\n\n        C = square1.vertices[2],\n        H = square2.vertices[3],\n\n        p = board.create('line', [A, H]),\n    \tq = board.create('line', [E, C]);\n};\n        await drawJSXGraph(drawFunc, \"jsx_box_abcc35f11ff04992994beff64658afb0\");\n    })();\n    </script>\n    "
          },
          "metadata": {}
        }
      ],
      "execution_count": 3
    }
  ]
}